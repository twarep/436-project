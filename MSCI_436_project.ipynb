{
  "cells": [
    {
      "cell_type": "markdown",
      "metadata": {
        "id": "diDq_ercynsb"
      },
      "source": [
        "# MSCI 436 Project Notebook\n",
        "\n",
        "(Insert team name and stuff here)\n",
        "\n",
        "(Mostly copied from the tutorial)\n"
      ]
    },
    {
      "cell_type": "markdown",
      "metadata": {
        "id": "sBKtSpbS0I2a"
      },
      "source": [
        "# Install Streamlit and localtunnel\n"
      ]
    },
    {
      "cell_type": "code",
      "execution_count": 1,
      "metadata": {
        "colab": {
          "base_uri": "https://localhost:8080/"
        },
        "id": "eGei_J8NyiZa",
        "outputId": "d759b926-0b30-4eef-faf7-3f547d2e0b32"
      },
      "outputs": [
        {
          "output_type": "stream",
          "name": "stdout",
          "text": [
            "\u001b[2K     \u001b[90m━━━━━━━━━━━━━━━━━━━━━━━━━━━━━━━━━━━━━━━━\u001b[0m \u001b[32m8.9/8.9 MB\u001b[0m \u001b[31m70.2 MB/s\u001b[0m eta \u001b[36m0:00:00\u001b[0m\n",
            "\u001b[2K     \u001b[90m━━━━━━━━━━━━━━━━━━━━━━━━━━━━━━━━━━━━━━\u001b[0m \u001b[32m164.8/164.8 kB\u001b[0m \u001b[31m14.7 MB/s\u001b[0m eta \u001b[36m0:00:00\u001b[0m\n",
            "\u001b[?25h  Preparing metadata (setup.py) ... \u001b[?25l\u001b[?25hdone\n",
            "\u001b[2K     \u001b[90m━━━━━━━━━━━━━━━━━━━━━━━━━━━━━━━━━━━━━━━\u001b[0m \u001b[32m184.3/184.3 kB\u001b[0m \u001b[31m7.2 MB/s\u001b[0m eta \u001b[36m0:00:00\u001b[0m\n",
            "\u001b[2K     \u001b[90m━━━━━━━━━━━━━━━━━━━━━━━━━━━━━━━━━━━━━━━━\u001b[0m \u001b[32m4.8/4.8 MB\u001b[0m \u001b[31m26.3 MB/s\u001b[0m eta \u001b[36m0:00:00\u001b[0m\n",
            "\u001b[2K     \u001b[90m━━━━━━━━━━━━━━━━━━━━━━━━━━━━━━━━━━━━━━━━\u001b[0m \u001b[32m82.1/82.1 kB\u001b[0m \u001b[31m6.3 MB/s\u001b[0m eta \u001b[36m0:00:00\u001b[0m\n",
            "\u001b[2K     \u001b[90m━━━━━━━━━━━━━━━━━━━━━━━━━━━━━━━━━━━━━━━━\u001b[0m \u001b[32m62.7/62.7 kB\u001b[0m \u001b[31m3.3 MB/s\u001b[0m eta \u001b[36m0:00:00\u001b[0m\n",
            "\u001b[2K     \u001b[90m━━━━━━━━━━━━━━━━━━━━━━━━━━━━━━━━━━━━━━\u001b[0m \u001b[32m341.8/341.8 kB\u001b[0m \u001b[31m10.2 MB/s\u001b[0m eta \u001b[36m0:00:00\u001b[0m\n",
            "\u001b[?25h  Building wheel for validators (setup.py) ... \u001b[?25l\u001b[?25hdone\n",
            "\u001b[K\u001b[?25h\u001b[37;40mnpm\u001b[0m \u001b[0m\u001b[30;43mWARN\u001b[0m \u001b[0m\u001b[35msaveError\u001b[0m ENOENT: no such file or directory, open '/content/package.json'\n",
            "\u001b[0m\u001b[37;40mnpm\u001b[0m \u001b[0m\u001b[34;40mnotice\u001b[0m\u001b[35m\u001b[0m created a lockfile as package-lock.json. You should commit this file.\n",
            "\u001b[0m\u001b[37;40mnpm\u001b[0m \u001b[0m\u001b[30;43mWARN\u001b[0m \u001b[0m\u001b[35menoent\u001b[0m ENOENT: no such file or directory, open '/content/package.json'\n",
            "\u001b[0m\u001b[37;40mnpm\u001b[0m \u001b[0m\u001b[30;43mWARN\u001b[0m\u001b[35m\u001b[0m content No description\n",
            "\u001b[0m\u001b[37;40mnpm\u001b[0m \u001b[0m\u001b[30;43mWARN\u001b[0m\u001b[35m\u001b[0m content No repository field.\n",
            "\u001b[0m\u001b[37;40mnpm\u001b[0m \u001b[0m\u001b[30;43mWARN\u001b[0m\u001b[35m\u001b[0m content No README data\n",
            "\u001b[0m\u001b[37;40mnpm\u001b[0m \u001b[0m\u001b[30;43mWARN\u001b[0m\u001b[35m\u001b[0m content No license field.\n",
            "\u001b[0m\n",
            "+ localtunnel@2.0.2\n",
            "added 22 packages from 22 contributors and audited 22 packages in 1.647s\n",
            "\n",
            "3 packages are looking for funding\n",
            "  run `npm fund` for details\n",
            "\n",
            "found \u001b[92m0\u001b[0m vulnerabilities\n",
            "\n",
            "\u001b[K\u001b[?25h"
          ]
        }
      ],
      "source": [
        "!pip install -q streamlit\n",
        "!npm install localtunnel"
      ]
    },
    {
      "cell_type": "markdown",
      "metadata": {
        "id": "ZO6hhpkl2ZTx"
      },
      "source": [
        "# Project - Read in the data file"
      ]
    },
    {
      "cell_type": "markdown",
      "metadata": {
        "id": "xWlYvQph28Np"
      },
      "source": [
        "Import packages and load data"
      ]
    },
    {
      "cell_type": "code",
      "execution_count": 2,
      "metadata": {
        "id": "iCZgfMjl3DIA",
        "colab": {
          "base_uri": "https://localhost:8080/",
          "height": 300
        },
        "outputId": "651658c0-2139-4565-89e0-bdf229ca52e1"
      },
      "outputs": [
        {
          "output_type": "execute_result",
          "data": {
            "text/plain": [
              "   Id  MSSubClass  LotFrontage  LotArea  OverallQual  OverallCond  YearBuilt  \\\n",
              "0   1          60         65.0     8450            7            5       2003   \n",
              "1   2          20         80.0     9600            6            8       1976   \n",
              "2   3          60         68.0    11250            7            5       2001   \n",
              "3   4          70         60.0     9550            7            5       1915   \n",
              "4   5          60         84.0    14260            8            5       2000   \n",
              "\n",
              "   YearRemodAdd  MasVnrArea  BsmtFinSF1  ...  WoodDeckSF  OpenPorchSF  \\\n",
              "0          2003       196.0         706  ...           0           61   \n",
              "1          1976         0.0         978  ...         298            0   \n",
              "2          2002       162.0         486  ...           0           42   \n",
              "3          1970         0.0         216  ...           0           35   \n",
              "4          2000       350.0         655  ...         192           84   \n",
              "\n",
              "   EnclosedPorch  3SsnPorch  ScreenPorch  PoolArea  MiscVal  MoSold  YrSold  \\\n",
              "0              0          0            0         0        0       2    2008   \n",
              "1              0          0            0         0        0       5    2007   \n",
              "2              0          0            0         0        0       9    2008   \n",
              "3            272          0            0         0        0       2    2006   \n",
              "4              0          0            0         0        0      12    2008   \n",
              "\n",
              "   SalePrice  \n",
              "0     208500  \n",
              "1     181500  \n",
              "2     223500  \n",
              "3     140000  \n",
              "4     250000  \n",
              "\n",
              "[5 rows x 38 columns]"
            ],
            "text/html": [
              "\n",
              "  <div id=\"df-8ed3a6cc-2b6f-4843-8425-113a7c400ac6\">\n",
              "    <div class=\"colab-df-container\">\n",
              "      <div>\n",
              "<style scoped>\n",
              "    .dataframe tbody tr th:only-of-type {\n",
              "        vertical-align: middle;\n",
              "    }\n",
              "\n",
              "    .dataframe tbody tr th {\n",
              "        vertical-align: top;\n",
              "    }\n",
              "\n",
              "    .dataframe thead th {\n",
              "        text-align: right;\n",
              "    }\n",
              "</style>\n",
              "<table border=\"1\" class=\"dataframe\">\n",
              "  <thead>\n",
              "    <tr style=\"text-align: right;\">\n",
              "      <th></th>\n",
              "      <th>Id</th>\n",
              "      <th>MSSubClass</th>\n",
              "      <th>LotFrontage</th>\n",
              "      <th>LotArea</th>\n",
              "      <th>OverallQual</th>\n",
              "      <th>OverallCond</th>\n",
              "      <th>YearBuilt</th>\n",
              "      <th>YearRemodAdd</th>\n",
              "      <th>MasVnrArea</th>\n",
              "      <th>BsmtFinSF1</th>\n",
              "      <th>...</th>\n",
              "      <th>WoodDeckSF</th>\n",
              "      <th>OpenPorchSF</th>\n",
              "      <th>EnclosedPorch</th>\n",
              "      <th>3SsnPorch</th>\n",
              "      <th>ScreenPorch</th>\n",
              "      <th>PoolArea</th>\n",
              "      <th>MiscVal</th>\n",
              "      <th>MoSold</th>\n",
              "      <th>YrSold</th>\n",
              "      <th>SalePrice</th>\n",
              "    </tr>\n",
              "  </thead>\n",
              "  <tbody>\n",
              "    <tr>\n",
              "      <th>0</th>\n",
              "      <td>1</td>\n",
              "      <td>60</td>\n",
              "      <td>65.0</td>\n",
              "      <td>8450</td>\n",
              "      <td>7</td>\n",
              "      <td>5</td>\n",
              "      <td>2003</td>\n",
              "      <td>2003</td>\n",
              "      <td>196.0</td>\n",
              "      <td>706</td>\n",
              "      <td>...</td>\n",
              "      <td>0</td>\n",
              "      <td>61</td>\n",
              "      <td>0</td>\n",
              "      <td>0</td>\n",
              "      <td>0</td>\n",
              "      <td>0</td>\n",
              "      <td>0</td>\n",
              "      <td>2</td>\n",
              "      <td>2008</td>\n",
              "      <td>208500</td>\n",
              "    </tr>\n",
              "    <tr>\n",
              "      <th>1</th>\n",
              "      <td>2</td>\n",
              "      <td>20</td>\n",
              "      <td>80.0</td>\n",
              "      <td>9600</td>\n",
              "      <td>6</td>\n",
              "      <td>8</td>\n",
              "      <td>1976</td>\n",
              "      <td>1976</td>\n",
              "      <td>0.0</td>\n",
              "      <td>978</td>\n",
              "      <td>...</td>\n",
              "      <td>298</td>\n",
              "      <td>0</td>\n",
              "      <td>0</td>\n",
              "      <td>0</td>\n",
              "      <td>0</td>\n",
              "      <td>0</td>\n",
              "      <td>0</td>\n",
              "      <td>5</td>\n",
              "      <td>2007</td>\n",
              "      <td>181500</td>\n",
              "    </tr>\n",
              "    <tr>\n",
              "      <th>2</th>\n",
              "      <td>3</td>\n",
              "      <td>60</td>\n",
              "      <td>68.0</td>\n",
              "      <td>11250</td>\n",
              "      <td>7</td>\n",
              "      <td>5</td>\n",
              "      <td>2001</td>\n",
              "      <td>2002</td>\n",
              "      <td>162.0</td>\n",
              "      <td>486</td>\n",
              "      <td>...</td>\n",
              "      <td>0</td>\n",
              "      <td>42</td>\n",
              "      <td>0</td>\n",
              "      <td>0</td>\n",
              "      <td>0</td>\n",
              "      <td>0</td>\n",
              "      <td>0</td>\n",
              "      <td>9</td>\n",
              "      <td>2008</td>\n",
              "      <td>223500</td>\n",
              "    </tr>\n",
              "    <tr>\n",
              "      <th>3</th>\n",
              "      <td>4</td>\n",
              "      <td>70</td>\n",
              "      <td>60.0</td>\n",
              "      <td>9550</td>\n",
              "      <td>7</td>\n",
              "      <td>5</td>\n",
              "      <td>1915</td>\n",
              "      <td>1970</td>\n",
              "      <td>0.0</td>\n",
              "      <td>216</td>\n",
              "      <td>...</td>\n",
              "      <td>0</td>\n",
              "      <td>35</td>\n",
              "      <td>272</td>\n",
              "      <td>0</td>\n",
              "      <td>0</td>\n",
              "      <td>0</td>\n",
              "      <td>0</td>\n",
              "      <td>2</td>\n",
              "      <td>2006</td>\n",
              "      <td>140000</td>\n",
              "    </tr>\n",
              "    <tr>\n",
              "      <th>4</th>\n",
              "      <td>5</td>\n",
              "      <td>60</td>\n",
              "      <td>84.0</td>\n",
              "      <td>14260</td>\n",
              "      <td>8</td>\n",
              "      <td>5</td>\n",
              "      <td>2000</td>\n",
              "      <td>2000</td>\n",
              "      <td>350.0</td>\n",
              "      <td>655</td>\n",
              "      <td>...</td>\n",
              "      <td>192</td>\n",
              "      <td>84</td>\n",
              "      <td>0</td>\n",
              "      <td>0</td>\n",
              "      <td>0</td>\n",
              "      <td>0</td>\n",
              "      <td>0</td>\n",
              "      <td>12</td>\n",
              "      <td>2008</td>\n",
              "      <td>250000</td>\n",
              "    </tr>\n",
              "  </tbody>\n",
              "</table>\n",
              "<p>5 rows × 38 columns</p>\n",
              "</div>\n",
              "      <button class=\"colab-df-convert\" onclick=\"convertToInteractive('df-8ed3a6cc-2b6f-4843-8425-113a7c400ac6')\"\n",
              "              title=\"Convert this dataframe to an interactive table.\"\n",
              "              style=\"display:none;\">\n",
              "        \n",
              "  <svg xmlns=\"http://www.w3.org/2000/svg\" height=\"24px\"viewBox=\"0 0 24 24\"\n",
              "       width=\"24px\">\n",
              "    <path d=\"M0 0h24v24H0V0z\" fill=\"none\"/>\n",
              "    <path d=\"M18.56 5.44l.94 2.06.94-2.06 2.06-.94-2.06-.94-.94-2.06-.94 2.06-2.06.94zm-11 1L8.5 8.5l.94-2.06 2.06-.94-2.06-.94L8.5 2.5l-.94 2.06-2.06.94zm10 10l.94 2.06.94-2.06 2.06-.94-2.06-.94-.94-2.06-.94 2.06-2.06.94z\"/><path d=\"M17.41 7.96l-1.37-1.37c-.4-.4-.92-.59-1.43-.59-.52 0-1.04.2-1.43.59L10.3 9.45l-7.72 7.72c-.78.78-.78 2.05 0 2.83L4 21.41c.39.39.9.59 1.41.59.51 0 1.02-.2 1.41-.59l7.78-7.78 2.81-2.81c.8-.78.8-2.07 0-2.86zM5.41 20L4 18.59l7.72-7.72 1.47 1.35L5.41 20z\"/>\n",
              "  </svg>\n",
              "      </button>\n",
              "      \n",
              "  <style>\n",
              "    .colab-df-container {\n",
              "      display:flex;\n",
              "      flex-wrap:wrap;\n",
              "      gap: 12px;\n",
              "    }\n",
              "\n",
              "    .colab-df-convert {\n",
              "      background-color: #E8F0FE;\n",
              "      border: none;\n",
              "      border-radius: 50%;\n",
              "      cursor: pointer;\n",
              "      display: none;\n",
              "      fill: #1967D2;\n",
              "      height: 32px;\n",
              "      padding: 0 0 0 0;\n",
              "      width: 32px;\n",
              "    }\n",
              "\n",
              "    .colab-df-convert:hover {\n",
              "      background-color: #E2EBFA;\n",
              "      box-shadow: 0px 1px 2px rgba(60, 64, 67, 0.3), 0px 1px 3px 1px rgba(60, 64, 67, 0.15);\n",
              "      fill: #174EA6;\n",
              "    }\n",
              "\n",
              "    [theme=dark] .colab-df-convert {\n",
              "      background-color: #3B4455;\n",
              "      fill: #D2E3FC;\n",
              "    }\n",
              "\n",
              "    [theme=dark] .colab-df-convert:hover {\n",
              "      background-color: #434B5C;\n",
              "      box-shadow: 0px 1px 3px 1px rgba(0, 0, 0, 0.15);\n",
              "      filter: drop-shadow(0px 1px 2px rgba(0, 0, 0, 0.3));\n",
              "      fill: #FFFFFF;\n",
              "    }\n",
              "  </style>\n",
              "\n",
              "      <script>\n",
              "        const buttonEl =\n",
              "          document.querySelector('#df-8ed3a6cc-2b6f-4843-8425-113a7c400ac6 button.colab-df-convert');\n",
              "        buttonEl.style.display =\n",
              "          google.colab.kernel.accessAllowed ? 'block' : 'none';\n",
              "\n",
              "        async function convertToInteractive(key) {\n",
              "          const element = document.querySelector('#df-8ed3a6cc-2b6f-4843-8425-113a7c400ac6');\n",
              "          const dataTable =\n",
              "            await google.colab.kernel.invokeFunction('convertToInteractive',\n",
              "                                                     [key], {});\n",
              "          if (!dataTable) return;\n",
              "\n",
              "          const docLinkHtml = 'Like what you see? Visit the ' +\n",
              "            '<a target=\"_blank\" href=https://colab.research.google.com/notebooks/data_table.ipynb>data table notebook</a>'\n",
              "            + ' to learn more about interactive tables.';\n",
              "          element.innerHTML = '';\n",
              "          dataTable['output_type'] = 'display_data';\n",
              "          await google.colab.output.renderOutput(dataTable, element);\n",
              "          const docLink = document.createElement('div');\n",
              "          docLink.innerHTML = docLinkHtml;\n",
              "          element.appendChild(docLink);\n",
              "        }\n",
              "      </script>\n",
              "    </div>\n",
              "  </div>\n",
              "  "
            ]
          },
          "metadata": {},
          "execution_count": 2
        }
      ],
      "source": [
        "import numpy as np\n",
        "import pandas as pd\n",
        "from sklearn.linear_model import LinearRegression\n",
        "\n",
        "\n",
        "raw_data_train = pd.read_csv('https://raw.githubusercontent.com/jmpark0808/pl_mnist_example/main/train_hp_msci436.csv')\n",
        "\n",
        "# select only the numerical data types\n",
        "df_num = raw_data_train.select_dtypes(include = ['float64', 'int64'])\n",
        "df_num.head()"
      ]
    },
    {
      "cell_type": "code",
      "execution_count": 3,
      "metadata": {
        "colab": {
          "base_uri": "https://localhost:8080/"
        },
        "id": "owcU2waMXk04",
        "outputId": "3f4e0f3d-3857-4717-b8f6-70080399fa52"
      },
      "outputs": [
        {
          "output_type": "stream",
          "name": "stdout",
          "text": [
            "<class 'pandas.core.frame.DataFrame'>\n",
            "RangeIndex: 1460 entries, 0 to 1459\n",
            "Data columns (total 22 columns):\n",
            " #   Column         Non-Null Count  Dtype\n",
            "---  ------         --------------  -----\n",
            " 0   LotArea        1460 non-null   int64\n",
            " 1   OverallQual    1460 non-null   int64\n",
            " 2   OverallCond    1460 non-null   int64\n",
            " 3   YearBuilt      1460 non-null   int64\n",
            " 4   YearRemodAdd   1460 non-null   int64\n",
            " 5   TotalBsmtSF    1460 non-null   int64\n",
            " 6   GrLivArea      1460 non-null   int64\n",
            " 7   BsmtFullBath   1460 non-null   int64\n",
            " 8   BsmtHalfBath   1460 non-null   int64\n",
            " 9   FullBath       1460 non-null   int64\n",
            " 10  HalfBath       1460 non-null   int64\n",
            " 11  BedroomAbvGr   1460 non-null   int64\n",
            " 12  KitchenAbvGr   1460 non-null   int64\n",
            " 13  TotRmsAbvGrd   1460 non-null   int64\n",
            " 14  GarageCars     1460 non-null   int64\n",
            " 15  GarageArea     1460 non-null   int64\n",
            " 16  OpenPorchSF    1460 non-null   int64\n",
            " 17  EnclosedPorch  1460 non-null   int64\n",
            " 18  ThreeSsnPorch  1460 non-null   int64\n",
            " 19  ScreenPorch    1460 non-null   int64\n",
            " 20  MoSold         1460 non-null   int64\n",
            " 21  SalePrice      1460 non-null   int64\n",
            "dtypes: int64(22)\n",
            "memory usage: 251.1 KB\n"
          ]
        }
      ],
      "source": [
        "model_df = raw_data_train.select_dtypes(include = ['float64', 'int64']).fillna(0)\n",
        "model_df = model_df[['LotArea', 'OverallQual', 'OverallCond', 'YearBuilt', 'YearRemodAdd', 'TotalBsmtSF', 'GrLivArea', 'BsmtFullBath',\n",
        "               'BsmtHalfBath', 'FullBath', 'HalfBath', 'BedroomAbvGr', 'KitchenAbvGr', 'TotRmsAbvGrd', 'GarageCars', 'GarageArea',\n",
        "               'OpenPorchSF', 'EnclosedPorch', '3SsnPorch', 'ScreenPorch', 'MoSold', 'SalePrice']]\n",
        "model_df = model_df.rename(columns= {'3SsnPorch':'ThreeSsnPorch'})\n",
        "model_df.info()"
      ]
    },
    {
      "cell_type": "code",
      "execution_count": 4,
      "metadata": {
        "id": "n1wLH9gd3JoB"
      },
      "outputs": [],
      "source": [
        "model_df.tail()\n",
        "X = model_df.values[:, 0:-1]\n",
        "y = model_df.values[:, -1]\n"
      ]
    },
    {
      "cell_type": "code",
      "execution_count": 5,
      "metadata": {
        "id": "QNzz4gBq3gKJ"
      },
      "outputs": [],
      "source": [
        "reg = LinearRegression().fit(X, y)\n",
        "weights = reg.coef_\n",
        "weights = weights.tolist()\n"
      ]
    },
    {
      "cell_type": "code",
      "source": [
        "weights"
      ],
      "metadata": {
        "colab": {
          "base_uri": "https://localhost:8080/"
        },
        "id": "khWtFWlgmbqs",
        "outputId": "6a53b95c-93e6-400c-850a-713de9319325"
      },
      "execution_count": 6,
      "outputs": [
        {
          "output_type": "execute_result",
          "data": {
            "text/plain": [
              "[0.5236586264504008,\n",
              " 17067.00635359097,\n",
              " 5345.530348819435,\n",
              " 377.0700577897769,\n",
              " 90.71050914280517,\n",
              " 20.853211807872217,\n",
              " 49.905315959102005,\n",
              " 12883.175520531,\n",
              " 4783.042821781575,\n",
              " 2159.261037904019,\n",
              " -2017.8146766938387,\n",
              " -10573.727120987796,\n",
              " -25663.89037789791,\n",
              " 6032.81324965356,\n",
              " 11199.18568161219,\n",
              " 6.219770887587453,\n",
              " -10.328213213325098,\n",
              " 1.862784091341922,\n",
              " 20.814349825574467,\n",
              " 53.15889059773167,\n",
              " 91.47503357857879]"
            ]
          },
          "metadata": {},
          "execution_count": 6
        }
      ]
    },
    {
      "cell_type": "markdown",
      "metadata": {
        "id": "-jtmsWJWy1ml"
      },
      "source": [
        "#Create a streamlit app example"
      ]
    },
    {
      "cell_type": "code",
      "execution_count": 7,
      "metadata": {
        "colab": {
          "base_uri": "https://localhost:8080/"
        },
        "id": "5zt1KXuPyqPq",
        "outputId": "67e24820-bc4e-4df4-ce15-ce942d7b1b71"
      },
      "outputs": [
        {
          "output_type": "stream",
          "name": "stdout",
          "text": [
            "Writing app.py\n"
          ]
        }
      ],
      "source": [
        "%%writefile app.py\n",
        "# Cheatsheet available at https://docs.streamlit.io/library/cheatsheet\n",
        "\n",
        "import streamlit as st\n",
        "import plotly.graph_objects as go\n",
        "\n",
        "\n",
        "\n",
        "import numpy as np\n",
        "import pandas as pd\n",
        "from sklearn.linear_model import LinearRegression\n",
        "from datetime import datetime\n",
        "\n",
        "\n",
        "raw_data_train = pd.read_csv('https://raw.githubusercontent.com/jmpark0808/pl_mnist_example/main/train_hp_msci436.csv')\n",
        "\n",
        "\n",
        "model_df = raw_data_train.select_dtypes(include = ['float64', 'int64']).fillna(0)\n",
        "model_df = model_df[['LotArea', 'OverallQual', 'OverallCond', 'YearBuilt', 'YearRemodAdd', 'TotalBsmtSF', 'GrLivArea', 'BsmtFullBath',\n",
        "               'BsmtHalfBath', 'FullBath', 'HalfBath', 'BedroomAbvGr', 'KitchenAbvGr', 'TotRmsAbvGrd', 'GarageCars', 'GarageArea',\n",
        "               'OpenPorchSF', 'EnclosedPorch', '3SsnPorch', 'ScreenPorch', 'MoSold', 'SalePrice']].astype(float)\n",
        "model_df = model_df.rename(columns= {'3SsnPorch':'ThreeSsnPorch'})\n",
        "\n",
        "\n",
        "\n",
        "X = model_df.values[:, 0:-1]\n",
        "y = model_df.values[:, -1]\n",
        "reg = LinearRegression().fit(X, y)\n",
        "weights = reg.coef_\n",
        "weights = weights.tolist()\n",
        "\n",
        "\n",
        "\n",
        "\n",
        "def predict_home_price(LotArea, OverallQual, OverallCond, YearBuilt, YearRemodAdd, TotalBsmtSF, GrLivArea, BsmtFullBath,\n",
        "            BsmtHalfBath, FullBath, HalfBath, BedroomAbvGr, KitchenAbvGr, TotRmsAbvGrd, GarageCars, GarageArea,\n",
        "              OpenPorchSF, EnclosedPorch, ThreeSsnPorch, ScreenPorch, MoSold):\n",
        "  input=[LotArea, OverallQual, OverallCond, YearBuilt, YearRemodAdd, TotalBsmtSF, GrLivArea, BsmtFullBath,\n",
        "            BsmtHalfBath, FullBath, HalfBath, BedroomAbvGr, KitchenAbvGr, TotRmsAbvGrd, GarageCars, GarageArea,\n",
        "              OpenPorchSF, EnclosedPorch, ThreeSsnPorch, ScreenPorch, MoSold]\n",
        "  price = sum([a*b for a,b in zip(weights,input)])\n",
        "  return price\n",
        "\n",
        "def number_input(keywords, minval, maxval):\n",
        "## TODO: discuss what is max values\n",
        "   label = keywords\n",
        "   test = st.number_input(label, step=1, min_value=minval, max_value=maxval )\n",
        "   return (\n",
        "     float(test)\n",
        "   )\n",
        "\n",
        "st.header('DSS Hello App Title Here')\n",
        "\n",
        "#---\n",
        "\n",
        "LotArea = number_input(\"Enter the lot size in square feet\",0,100000)\n",
        "OverallQual = st.slider('Rate the overall material and finish of the house', 0, 10, 5)\n",
        "OverallCond = st.slider('Rate the overall condition of the house', 0, 10, 5)\n",
        "YearBuilt = number_input(\"Original construction date\",0,100000)\n",
        "YearRemodAdd = number_input(\"Remodel date (same as construction date if no remodeling or additions)\",0,100000)\n",
        "TotalBsmtSF = number_input(\"Total square feet of basement area\",0,100000)\n",
        "GrLivArea = number_input(\"Above ground living area square feet\",0,100000)\n",
        "BsmtFullBath = number_input(\"Basement full bathrooms\",0,100000)\n",
        "BsmtHalfBath = number_input(\"Basement half bathrooms\",0,100000)\n",
        "FullBath = number_input(\"Full bathrooms above ground\",0,100000)\n",
        "HalfBath = number_input(\"Half bathrooms above ground\",0,100000)\n",
        "BedroomAbvGr = number_input(\"Bedrooms above ground (does NOT include basement bedrooms)\",0,100000)\n",
        "KitchenAbvGr = number_input(\"Kitchens above ground (does NOT include basement kitchens)\",0,100000)\n",
        "TotRmsAbvGrd = number_input(\"TotRmsAbvGrd\",0,100000)\n",
        "GarageCars = number_input(\"Size of garage in car capacity\",0,10)\n",
        "GarageArea = number_input(\"Size of garage in square feet\",0,100000)\n",
        "MoSold = OverallQual = st.slider('When are you selling the house?', 0, 12, 5)\n",
        "\n",
        "\n",
        "OpenPorchSF, EnclosedPorch, ThreeSsnPorch, ScreenPorch = (0,0,0,0)\n",
        "\n",
        "porch = st.radio(\n",
        "    \"Which porch would you like?\", (\"OpenPorchSF\", \"EnclosedPorch\", \"ThreeSsnPorch\", \"ScreenPorch\"))\n",
        "\n",
        "## kind of hacky but it should work?\n",
        "if porch == \"OpenPorchSF\":\n",
        "  OpenPorchSF, EnclosedPorch, ThreeSsnPorch, ScreenPorch =[1,0,0,0]\n",
        "elif porch == \"EnclosedPorch\":\n",
        "  OpenPorchSF, EnclosedPorch, ThreeSsnPorch, ScreenPorch =[0,1,0,0]\n",
        "elif porch == \"ThreeSsnPorch\":\n",
        "  OpenPorchSF, EnclosedPorch, ThreeSsnPorch, ScreenPorch =[0,0,1,0]\n",
        "else:\n",
        "  OpenPorchSF, EnclosedPorch, ThreeSsnPorch, ScreenPorch =[0,0,0,1]\n",
        "\n",
        "\n",
        "if st.button('Predict the price'):\n",
        "  price = predict_home_price(LotArea, OverallQual, OverallCond, YearBuilt, YearRemodAdd, TotalBsmtSF,\n",
        "GrLivArea, BsmtFullBath, BsmtHalfBath, FullBath, HalfBath,\n",
        "BedroomAbvGr, KitchenAbvGr, TotRmsAbvGrd, GarageCars, GarageArea, MoSold,\n",
        "OpenPorchSF, EnclosedPorch, ThreeSsnPorch, ScreenPorch)\n",
        "  st.write(weights)\n",
        "  st.write(price)\n",
        "\n",
        "\n",
        "\n",
        "\n",
        "labels = ['LotArea', 'OverallQual', 'OverallCond', 'YearBuilt', 'YearRemodAdd', 'TotalBsmtSF',\n",
        "'GrLivArea', 'BsmtFullBath', 'BsmtHalfBath', 'FullBath', 'HalfBath',\n",
        "'BedroomAbvGr', 'KitchenAbvGr', 'TotRmsAbvGrd', 'GarageCars', 'GarageArea', 'MoSold',\n",
        "'OpenPorchSF', 'EnclosedPorch', 'ThreeSsnPorch', 'ScreenPorch']\n",
        "\n",
        "values = [4500, 2500, 1053, 500]\n",
        "\n",
        "# Use `hole` to create a donut-like pie chart\n",
        "fig_target = go.Figure(data=[go.Pie(labels=labels, values=values, hole=.3)])\n",
        "st.plotly_chart(fig_target, use_container_width=True)\n",
        "\n"
      ]
    },
    {
      "cell_type": "markdown",
      "metadata": {
        "id": "sOJ8WB-p2xa0"
      },
      "source": [
        "# Run the app and keep logs"
      ]
    },
    {
      "cell_type": "code",
      "execution_count": 8,
      "metadata": {
        "id": "Ypi7o3Ol0ZV5"
      },
      "outputs": [],
      "source": [
        "!streamlit run /content/app.py &>/content/logs.txt &"
      ]
    },
    {
      "cell_type": "code",
      "execution_count": null,
      "metadata": {
        "colab": {
          "base_uri": "https://localhost:8080/"
        },
        "id": "ILwthTCazFq6",
        "outputId": "1314375e-925b-4e25-cec9-9e64170e2e83"
      },
      "outputs": [
        {
          "output_type": "stream",
          "name": "stdout",
          "text": [
            "34.86.190.208\n",
            "\u001b[K\u001b[?25hnpx: installed 22 in 4.054s\n",
            "your url is: https://proud-corners-punch.loca.lt\n"
          ]
        }
      ],
      "source": [
        "!curl ipv4.icanhazip.com\n",
        "!npx localtunnel --port 8501"
      ]
    },
    {
      "cell_type": "code",
      "execution_count": null,
      "metadata": {
        "id": "nfm5rYHEzGNA"
      },
      "outputs": [],
      "source": []
    }
  ],
  "metadata": {
    "colab": {
      "provenance": []
    },
    "kernelspec": {
      "display_name": "Python 3",
      "name": "python3"
    },
    "language_info": {
      "name": "python"
    }
  },
  "nbformat": 4,
  "nbformat_minor": 0
}